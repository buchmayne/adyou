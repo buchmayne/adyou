{
 "cells": [
  {
   "cell_type": "code",
   "execution_count": 2,
   "metadata": {},
   "outputs": [],
   "source": [
    "import os \n",
    "\n",
    "import geopandas as gpd\n",
    "import pandas as pd\n",
    "import matplotlib.pyplot as plt\n",
    "import psycopg2\n",
    "import osgeo.ogr\n",
    "import shapely\n",
    "import shapely.wkt\n",
    "\n",
    "pd.set_option('display.max_columns', None)"
   ]
  },
  {
   "cell_type": "code",
   "execution_count": 3,
   "metadata": {},
   "outputs": [],
   "source": [
    "DATABASE = {\n",
    "    'host': 'localhost',\n",
    "    'port': '5432',\n",
    "    'user': 'postgres',\n",
    "    'password': 'password',\n",
    "    'database': 'shred'\n",
    "}\n",
    "\n",
    "\n",
    "con = psycopg2.connect(\n",
    "    database=DATABASE['database'],\n",
    "    user=DATABASE['user'],\n",
    "    password=DATABASE['password'],\n",
    "    host=DATABASE['host'],\n",
    "    port=DATABASE['port']\n",
    "    )"
   ]
  },
  {
   "cell_type": "code",
   "execution_count": 12,
   "metadata": {},
   "outputs": [],
   "source": [
    "cur = con.cursor()"
   ]
  },
  {
   "cell_type": "code",
   "execution_count": 4,
   "metadata": {},
   "outputs": [],
   "source": [
    "path_to_rlis_folder = os.path.expanduser('~/RLIS/')\n",
    "\n",
    "taxlots_folder = os.path.join(path_to_rlis_folder, 'TAXLOTS')"
   ]
  },
  {
   "cell_type": "code",
   "execution_count": 8,
   "metadata": {},
   "outputs": [],
   "source": [
    "taxlots = gpd.read_file(os.path.join(taxlots_folder, 'taxlots.shp'))"
   ]
  },
  {
   "cell_type": "code",
   "execution_count": 11,
   "metadata": {},
   "outputs": [],
   "source": [
    "insert_taxlots_query = '''\n",
    "    CREATE TABLE taxlots (\n",
    "        area REAL,\n",
    "        tlid TEXT PRIMARY KEY,\n",
    "        primaccnum TEXT,\n",
    "        altaccnum TEXT,\n",
    "        ownersort TEXT,\n",
    "        owner1 TEXT,\n",
    "        owner2 TEXT,\n",
    "        owneraddr TEXT,\n",
    "        owneraddr2 TEXT,\n",
    "        ownercity TEXT,\n",
    "        ownerstate TEXT,\n",
    "        ownerzip TEXT,\n",
    "        siteaddr TEXT,\n",
    "        sitecity TEXT,\n",
    "        sitezip TEXT,\n",
    "        landval REAL,\n",
    "        bldgval REAL,\n",
    "        totalval REAL,\n",
    "        bldgsqft REAL,\n",
    "        a_t_acres REAL,\n",
    "        yearbuilt REAL,\n",
    "        prop_code TEXT,\n",
    "        landuse TEXT,\n",
    "        taxcode TEXT,\n",
    "        saledate TEXT,\n",
    "        saleprice REAL,\n",
    "        county TEXT,\n",
    "        x_coord REAL,\n",
    "        y_coord REAL,\n",
    "        juris_city TEXT,\n",
    "        gis_acres REAL,\n",
    "        stateclass TEXT,\n",
    "        ortaxlot TEXT,\n",
    "        geometry POLYGON\n",
    "    )\n",
    "'''"
   ]
  },
  {
   "cell_type": "code",
   "execution_count": 13,
   "metadata": {},
   "outputs": [],
   "source": [
    "cur.execute(\"DROP TABLE IF EXISTS taxlots\")\n",
    "cur.execute(insert_taxlots_query)\n",
    "con.commit()"
   ]
  },
  {
   "cell_type": "code",
   "execution_count": 16,
   "metadata": {},
   "outputs": [],
   "source": [
    "cur.execute(\"CREATE INDEX taxlots_index ON taxlots USING GIST(geometry)\")\n",
    "con.commit()"
   ]
  }
 ],
 "metadata": {
  "kernelspec": {
   "display_name": "Python 3",
   "language": "python",
   "name": "python3"
  },
  "language_info": {
   "codemirror_mode": {
    "name": "ipython",
    "version": 3
   },
   "file_extension": ".py",
   "mimetype": "text/x-python",
   "name": "python",
   "nbconvert_exporter": "python",
   "pygments_lexer": "ipython3",
   "version": "3.8.2"
  }
 },
 "nbformat": 4,
 "nbformat_minor": 4
}
